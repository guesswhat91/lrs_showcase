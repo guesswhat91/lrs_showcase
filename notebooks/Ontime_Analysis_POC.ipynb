{
 "cells": [
  {
   "cell_type": "markdown",
   "metadata": {},
   "source": [
    "# On-Time Analysis - Case Study to build a Machine Learning Model"
   ]
  },
  {
   "cell_type": "markdown",
   "metadata": {},
   "source": [
    "The below analysis was to convince Supply Chain Leadership to build a machine learning model to assign time window frames based on customer segment and historic delivery time. "
   ]
  },
  {
   "cell_type": "markdown",
   "metadata": {},
   "source": [
    "## Importing dependencies"
   ]
  },
  {
   "cell_type": "code",
   "execution_count": null,
   "metadata": {},
   "outputs": [],
   "source": [
    "import os\n",
    "os.chdir('/workspace')\n",
    "from src.utils import correlation_result, plot_correlation\n",
    "import pandas as pd\n",
    "import numpy as np\n",
    "import matplotlib.pyplot as plt\n",
    "import seaborn as sn\n",
    "from IPython.core.pylabtools import figsize"
   ]
  },
  {
   "cell_type": "markdown",
   "metadata": {},
   "source": [
    "## On-time Delivery plots based on time window"
   ]
  },
  {
   "cell_type": "code",
   "execution_count": null,
   "metadata": {},
   "outputs": [],
   "source": [
    "#Code Example:\n",
    "\n",
    "figsize(18, 10)\n",
    "sn.set()\n",
    "fig, ax = plt.subplots()\n",
    "    \n",
    "bar_plot = sn.barplot(df_plnd_stp_actl_on_tm_5G['TW_HR'], df_plnd_stp_actl_on_tm_5G['NBR_OF_PLND_STOP'], \n",
    "                      #hue= df_plnd_stp_actl_on_tm_5G_index['IQR'],\n",
    "                      palette=custom_palette,\n",
    "                      dodge=False)#2f2f8a \n",
    "# iqr_times[:].set_color('r')\n",
    "bar_label = df_plnd_stp_actl_on_tm_5G['ON_TM_PRCNT_ACTL'].tolist()\n",
    "ax.set_title('Overlap Hours Planned Stops & On-time (Actual) 5G P1 2021 ', fontsize = 24, fontweight='bold')\n",
    "plt.axvline(x=(q25/100)-0.45, linewidth=2, color='black')\n",
    "plt.axvline(x=(q75/100)+0.45, linewidth=2, color='black')\n",
    "ax.text(x=(q25/100)-1.65, y=2500, s=\"{q:.0f} hrs\".format(q=q25), fontsize=12)\n",
    "ax.text(x=(q75/100)+0.5, y=2500, s=\"1359 hrs\".format(q=q75), fontsize=12)\n",
    "ax.set_ylabel('Planned Number of Stops', fontsize=12, fontweight='bold')\n",
    "ax.set_xlabel('Time of Day (in Hours)', fontsize=12, fontweight='bold')\n",
    "# ax.get_legend().remove()\n",
    "\n",
    "   \n",
    "rects = ax.patches\n",
    "# rects = df_plnd_stp_actl_on_tm_5G['NBR_OF_PLND_STOP'].tolist()\n",
    "for rect, label in zip(rects, bar_label):\n",
    "    height = rect.get_height()\n",
    "    ax.text(rect.get_x() + rect.get_width() / 2, 1.*height, \n",
    "                label,\n",
    "                ha='center', va='bottom',fontsize=10, color = 'black') #8f2317\n",
    "plt.show()\n",
    "fig.savefig('data/img/03A_Planned_Stops_On_Time_Percent_5G', bbox_inches='tight', dpi=150)\n"
   ]
  },
  {
   "cell_type": "markdown",
   "metadata": {},
   "source": [
    "![Overlap](imgs/Overlap.png)"
   ]
  },
  {
   "cell_type": "markdown",
   "metadata": {},
   "source": [
    "## Cumulative Percentages 80-20 Rule\n",
    "\n",
    "Provide insight on where **80%** of the problem lies"
   ]
  },
  {
   "cell_type": "code",
   "execution_count": null,
   "metadata": {},
   "outputs": [],
   "source": [
    "\n",
    "df_not_on_time_5G = df_5G[['Time Window by Hour', 'TTL_NOT_ON_TIME_ACTL']]\n",
    "df_not_on_time_5G = df_not_on_time_5G.sort_values(by='TTL_NOT_ON_TIME_ACTL', ascending=False)\n",
    "df_not_on_time_5G['CUMULATIVE_PERCENT_NOT_ON_TIME_ACTL'] = (100*(df_not_on_time_5G.TTL_NOT_ON_TIME_ACTL.cumsum() / \n",
    "                                                                 df_not_on_time_5G.TTL_NOT_ON_TIME_ACTL.sum()).round(2))\n"
   ]
  },
  {
   "cell_type": "markdown",
   "metadata": {},
   "source": [
    "![cum_prcnt](imgs/cum_prcnt.png)"
   ]
  },
  {
   "cell_type": "code",
   "execution_count": null,
   "metadata": {},
   "outputs": [],
   "source": [
    "df_not_on_time_5G\n",
    "fig, ax = plt.subplots(figsize=(20,10))\n",
    "# plt.rcParams[\"figure.figsize\"]=30,30\n",
    "sn.set_style(\"dark\", {'axes.grid' : False})\n",
    "# sn.set_style(\"dark\", {'ax2.grid' : True})\n",
    "bar1 = sn.barplot(x=\"Time Window by Hour\",  y=\"TTL_NOT_ON_TIME_ACTL\", data=df_not_on_time_5G, color='blue', saturation=.33, ax=ax)\n",
    "ax.set_title(\"Pareto Chart for Stops Not on Time (actual) 5G P1 2021\", fontsize=20, fontweight = 'bold')\n",
    "ax.set_ylabel(\"Total Not On Time\", fontsize = 14)\n",
    "ax.set_xlabel(\"Time Window by Hour\", fontsize = 14)\n",
    "ax2 = ax.twinx()\n",
    "sn.lineplot(x=\"Time Window by Hour\", y=\"CUMULATIVE_PERCENT_NOT_ON_TIME_ACTL\", data=df_not_on_time_5G, color='orange', ax=ax2)\n",
    "ax2.set_ylim([0, 105])\n",
    "ax2.set_ylabel('Cumulative Percent for Stops Not On Time', fontsize = 14)\n",
    "plt.show()\n",
    "# fig.savefig('data/img/04_Pareto_Chart_Stops_On_Time_Percent', bbox_inches='tight', dpi=150)\n"
   ]
  },
  {
   "cell_type": "markdown",
   "metadata": {},
   "source": [
    "![cum_prcnt](imgs/pareto.png)"
   ]
  },
  {
   "cell_type": "markdown",
   "metadata": {},
   "source": [
    "## Gantt Explanation\n",
    "\n",
    "Show a visual example of how each stop behaved for example look at stop 10 and 11 where driver did the right thing.\n",
    "Also stop 11 should have been after **Stop 7**"
   ]
  },
  {
   "cell_type": "markdown",
   "metadata": {},
   "source": [
    "![cum_prcnt](imgs/df_gantt.png)"
   ]
  },
  {
   "cell_type": "code",
   "execution_count": null,
   "metadata": {},
   "outputs": [],
   "source": [
    "# This code is ugly and needs to be functionalized. If this plot needs to got into production \n",
    "# IT WILL BE FUNCTIONALIZED BY LEE!!!!!\n",
    "\n",
    "\n",
    "figsize(16, 8)\n",
    "sn.set()\n",
    "fig, ax = plt.subplots()\n",
    "#1\n",
    "ax.broken_barh(lst[0:1],(1,2), facecolors='lightsteelblue')\n",
    "plt.axvline(x=lst2[0], ymin=0.00, ymax = 0.08, linewidth=2, color='k')\n",
    "plt.axvline(x=lst3[0], ymin=0.00, ymax = 0.08, linewidth=2, color='r')\n",
    "\n",
    "#2\n",
    "ax.broken_barh(lst[1:2],(3,2), facecolors='lightsteelblue')\n",
    "plt.axvline(x=lst2[1], ymin=0.09, ymax = 0.16, linewidth=2, color='k')\n",
    "plt.axvline(x=lst3[1], ymin=0.09, ymax = 0.16, linewidth=2, color='r')\n",
    "\n",
    "#3\n",
    "ax.broken_barh(lst[2:3],(5,2), facecolors='lightsteelblue')\n",
    "plt.axvline(x=lst2[2], ymin=0.17, ymax = 0.245, linewidth=2, color='k')\n",
    "plt.axvline(x=lst3[2], ymin=0.17, ymax = 0.245, linewidth=2, color='r')\n",
    "\n",
    "\n",
    "#4\n",
    "ax.broken_barh(lst[3:4],(7,2), facecolors='lightsteelblue')\n",
    "plt.axvline(x=lst2[3], ymin=0.252, ymax = 0.33, linewidth=2, color='k')\n",
    "plt.axvline(x=lst3[3], ymin=0.252, ymax = 0.33, linewidth=2, color='r')\n",
    "\n",
    "\n",
    "#5\n",
    "ax.broken_barh(lst[4:5],(9,2), facecolors='lightsteelblue')\n",
    "plt.axvline(x=lst2[3], ymin=0.335, ymax = 0.41, linewidth=2, color='k')\n",
    "plt.axvline(x=lst3[3], ymin=0.335, ymax = 0.41, linewidth=2, color='r')\n",
    "\n",
    "\n",
    "#6\n",
    "ax.broken_barh(lst[5:6],(11,2), facecolors='lightsteelblue')\n",
    "plt.axvline(x=lst2[5], ymin=0.42, ymax = 0.495, linewidth=2, color='k')\n",
    "plt.axvline(x=lst3[5], ymin=0.42, ymax = 0.495, linewidth=2, color='r')\n",
    "\n",
    "\n",
    "#7\n",
    "ax.broken_barh(lst[6:7],(13,2), facecolors='lightsteelblue')\n",
    "plt.axvline(x=lst2[6], ymin=0.505, ymax = 0.575, linewidth=2, color='k')\n",
    "plt.axvline(x=lst3[6], ymin=0.505, ymax = 0.575, linewidth=2, color='r')\n",
    "\n",
    "\n",
    "#8\n",
    "ax.broken_barh(lst[7:8],(15,2), facecolors='lightsteelblue')\n",
    "plt.axvline(x=lst2[7], ymin=0.585, ymax = 0.66, linewidth=2, color='k')\n",
    "plt.axvline(x=lst3[7], ymin=0.585, ymax = 0.66, linewidth=2, color='r')\n",
    "\n",
    "\n",
    "#9\n",
    "ax.broken_barh(lst[8:9],(17,2), facecolors='lightsteelblue')\n",
    "plt.axvline(x=lst2[8], ymin=0.67, ymax = 0.745, linewidth=2, color='k')\n",
    "plt.axvline(x=lst3[8], ymin=0.67, ymax = 0.745, linewidth=2, color='r')\n",
    "\n",
    "\n",
    "#10\n",
    "ax.broken_barh(lst[9:10],(19,2), facecolors='lightsteelblue')\n",
    "plt.axvline(x=lst2[9], ymin=0.755, ymax = 0.83, linewidth=2, color='k')\n",
    "plt.axvline(x=lst3[9], ymin=0.755, ymax = 0.83, linewidth=2, color='r')\n",
    "\n",
    "\n",
    "#11\n",
    "ax.broken_barh(lst[10:11],(21,2), facecolors='lightsteelblue')\n",
    "plt.axvline(x=lst2[10], ymin=0.835, ymax = 0.91, linewidth=2, color='k')\n",
    "plt.axvline(x=lst3[10], ymin=0.835, ymax = 0.91, linewidth=2, color='r')\n",
    "\n",
    "\n",
    "#12\n",
    "ax.broken_barh(lst[11:12],(23,2), facecolors='lightsteelblue')\n",
    "plt.axvline(x=lst2[11], ymin=0.92, ymax = 1, linewidth=2, color='k')\n",
    "plt.axvline(x=lst3[11], ymin=0.92, ymax = 1, linewidth=2, color='r')\n",
    "\n",
    "\n",
    "ax.set_ylim(1, 25)\n",
    "ax.set_xlim(0,2500)\n",
    "ax.set_xlabel('Time between Zero to Twenty Four Hour Window', fontsize=16, fontweight='bold')\n",
    "ax.set_yticks([2, 4, 6, 8, 10, 12, 14, 16, 18, 20, 22, 24])\n",
    "ax.set_yticklabels(['Stop 12', 'Stop 11', 'Stop 10', 'Stop 9', 'Stop 8', 'Stop 7', 'Stop 6', 'Stop 5', 'Stop 4', 'Stop 3', 'Stop 2', 'Stop 1'], fontweight='bold')\n",
    "ax.set_title('Time Window Distribution by Stops (5G-Route 1301-20210104)', fontsize=18, fontweight='bold')\n",
    "ax.grid(True)\n",
    "plt.legend([\"Planned\", \"Actual\"])\n",
    "plt.show()\n"
   ]
  },
  {
   "cell_type": "markdown",
   "metadata": {},
   "source": [
    "![time_window_dist](imgs/time_window_dist.png)"
   ]
  },
  {
   "cell_type": "markdown",
   "metadata": {},
   "source": [
    "## Subplots"
   ]
  },
  {
   "cell_type": "markdown",
   "metadata": {},
   "source": [
    "![df_subplots](imgs/df_subplots.png)"
   ]
  },
  {
   "cell_type": "code",
   "execution_count": null,
   "metadata": {},
   "outputs": [],
   "source": [
    "fig, ((ax_A, ax_B), (ax_C, ax_D)) = plt.subplots(2, 2, figsize=(20,6)) #,sharex='col'\n",
    "plt.rcParams[\"figure.figsize\"]=10,10\n",
    "segments = ['A', 'B', 'C', 'D']\n",
    "axs = [ax_A, ax_B, ax_C, ax_D]\n",
    "\n",
    "maxn = 10\n",
    "\n",
    "def cust_pallet(x):\n",
    "    if x > 90.00:\n",
    "        return 'g'\n",
    "    elif 85 < x < 90:\n",
    "        return 'y'\n",
    "    else:\n",
    "        return 'r'\n",
    "\n",
    "for segment, ax in zip(segments, axs):\n",
    "    df = df_5G_cust_iqr[(df_5G_cust_iqr['SEGMENT'] == segment)]\n",
    "    df['color'] = df['ON_TM_PRCNT'].apply(cust_pallet)\n",
    "    custom_palette = df.set_index('IQR')['color'].to_dict()\n",
    "#     bar_plot = sns.barplot(x='IQR', y='NO_OF_CUST', data=df, palette=['blue'],saturation=.33, ax=ax, dodge=False)\n",
    "    bar_plot = sns.barplot(x='IQR', y='NO_OF_CUST', data=df, palette=custom_palette, ax=ax, dodge=False)\n",
    "    bar_label = df['ON_TM_PRCNT'].tolist()\n",
    "    ax.set_ylabel('Number of Customers', fontsize=12, fontweight='bold')\n",
    "    ax.set_xlabel('IQR (in hours)', fontsize=12, fontweight='bold')\n",
    "    ax.set_title(f'Segment: {segment} IQR & On-Time Percent, Raleigh - 5G', fontweight='bold', fontsize = 16)\n",
    "    ax.set_xticklabels(df['IQR'], fontsize=10, fontweight='bold')\n",
    "    plt.subplots_adjust(top=2)\n",
    "    ax.set_xlim(-0.5,maxn-0.5)\n",
    "    rects = ax.patches\n",
    "    for rect, label in zip(rects, bar_label):\n",
    "        height = rect.get_height()\n",
    "        ax.text(rect.get_x() + rect.get_width() / 2, 1.*height, \n",
    "                label,\n",
    "                ha='center', va='bottom',fontsize=10, color = 'black') #8f2317\n",
    "# fig.savefig('data/img/11_IQR_&_OTD_5G.jpg', bbox_inches='tight', dpi=150)   \n"
   ]
  },
  {
   "cell_type": "markdown",
   "metadata": {},
   "source": [
    "![sub_plots_color](imgs/sub_plots_color.jpg)"
   ]
  },
  {
   "cell_type": "markdown",
   "metadata": {},
   "source": [
    "## Boxplot for a customer showing what the customer could potenially be unhappy with delivery"
   ]
  },
  {
   "cell_type": "markdown",
   "metadata": {},
   "source": [
    "![df_boxplot1](imgs/df_boxplot1.png)\n",
    "![df_boxplot2](imgs/df_boxplot2.png)"
   ]
  },
  {
   "cell_type": "code",
   "execution_count": null,
   "metadata": {},
   "outputs": [],
   "source": [
    "figsize(18, 10)\n",
    "sns.set()\n",
    "fig, ax = plt.subplots()\n",
    "\n",
    "ax = sns.boxplot(x=df_5G_cust_box_plot['TIME_HR_MINS'],color='blue', saturation=.33)\n",
    "ax = sns.swarmplot(x=df_5G_cust_box_plot['TIME_HR_MINS'],color='#A14040')\n",
    "plt.title('Single Customer Actual Arrival Time - Raleigh 5G ', fontsize = 20, fontweight='bold')\n",
    "plt.xlabel('Arrrival Time of Day (by hour)')\n",
    "ax.text(x=1100, y= -0.45, s=\"On-Time Percent = {ont:.01f}%\".format(ont=df_otd_cust.iat[0,3]), fontsize=14, fontweight='bold') \n",
    "ax.text(x=795, y= -0.42, s=\"Customer Experience Window\".format(ont=df_otd_cust.iat[0,3]), fontsize=10, fontweight='bold', ha=\"center\") \n",
    "plt.show()\n",
    "fig.savefig('data/img/12_boxplot_81114969_5G.jpg', bbox_inches='tight', dpi=150) \n"
   ]
  },
  {
   "cell_type": "markdown",
   "metadata": {},
   "source": [
    "## SQL\n",
    "\n",
    "\n",
    "```\n",
    "sngl_cust_box_plot = '''\n",
    "SELECT \n",
    "  a.brnch_cd\n",
    ", a.div_nm\n",
    ", a.cust_nbr\n",
    ", a.cust_nm\n",
    ", a.session_date\n",
    ", a.arvl_tm_actl\n",
    ", a.arvl_tm_actl_hrs\n",
    ", arvl_tm_actl_time_of_day_mins\n",
    ", ROUND((arvl_tm_actl_time_of_day_mins/ 60 - floor((arvl_tm_actl_time_of_day_mins/ 60)))*60,0) minutes\n",
    ", on_tm_actl\n",
    ", ROUND((arvl_tm_actl_time_of_day_mins /60),0) arvl_tm_actl_time_of_day\n",
    ", TO_NUMBER((CASE WHEN minutes = 0 \n",
    "         THEN TO_CHAR(arvl_tm_actl_time_of_day||'00')\n",
    "       WHEN LEN(TO_CHAR(arvl_tm_actl_time_of_day||minutes)) = 2 \n",
    "         THEN TO_CHAR(arvl_tm_actl_time_of_day||'0'||minutes)\n",
    "       ELSE TO_CHAR(arvl_tm_actl_time_of_day||minutes)\n",
    "  END\n",
    "  )) time_hr_mins\n",
    ", REQUESTED_TIME_WINDOW_HOUR window_width\n",
    "--, b.q25\n",
    "--, b.q75\n",
    "--, b.iqr\n",
    "\n",
    "FROM BUSINESS_ANALYTICS._DS_DEV.VIEW_DS_ROUTER_TOOLKIT a\n",
    "\n",
    "WHERE a.session_date BETWEEN '2021-01-03' AND '2021-03-06'\n",
    "AND a.cust_nbr = '81114969'\n",
    "AND a.brnch_cd = '5G'\n",
    "AND a.arvl_tm_actl IS NOT NULL\n",
    "ORDER BY \n",
    "arvl_tm_actl_time_of_day_mins ASC\n",
    "--a.session_date ASC\n",
    "LIMIT 40\n",
    ";\n",
    "```"
   ]
  },
  {
   "cell_type": "markdown",
   "metadata": {},
   "source": [
    "![boxplot](imgs/boxplot.jpg)"
   ]
  },
  {
   "cell_type": "code",
   "execution_count": null,
   "metadata": {},
   "outputs": [],
   "source": []
  }
 ],
 "metadata": {
  "kernelspec": {
   "display_name": "Python 3",
   "language": "python",
   "name": "python3"
  },
  "language_info": {
   "codemirror_mode": {
    "name": "ipython",
    "version": 3
   },
   "file_extension": ".py",
   "mimetype": "text/x-python",
   "name": "python",
   "nbconvert_exporter": "python",
   "pygments_lexer": "ipython3",
   "version": "3.8.20"
  }
 },
 "nbformat": 4,
 "nbformat_minor": 4
}
